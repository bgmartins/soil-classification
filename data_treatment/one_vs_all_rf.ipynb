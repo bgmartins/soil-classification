{
 "cells": [
  {
   "cell_type": "code",
   "execution_count": 1,
   "metadata": {},
   "outputs": [],
   "source": [
    "import pandas as pd\n",
    "import numpy as np\n",
    "from sklearn.ensemble import RandomForestClassifier\n",
    "from sklearn.model_selection import cross_val_score, train_test_split\n",
    "from sklearn.metrics import cohen_kappa_score"
   ]
  },
  {
   "cell_type": "code",
   "execution_count": 2,
   "metadata": {},
   "outputs": [],
   "source": [
    "inputfile = '../data/test/mexico_k_1_layers_5.csv'\n",
    "profile_file = '../data/profiles.csv'\n",
    "\n",
    "def get_data():\n",
    "    profiles_file = pd.read_csv(profile_file)\n",
    "    profiles_file = profiles_file[['profile_id', 'cwrb_reference_soil_group']]\n",
    "    data = pd.read_csv(inputfile)\n",
    "    data = profiles_file.merge(data, how=\"inner\", left_on=[\n",
    "        'profile_id'], right_on=['profile_id'])\n",
    "\n",
    "    data = remove_small_classes(data, 15)\n",
    "    \n",
    "    y = data.cwrb_reference_soil_group.astype(str)\n",
    "    X = data.drop(['cwrb_reference_soil_group'], axis=1)\n",
    "\n",
    "    return X, y\n",
    "\n",
    "def remove_small_classes(df, min):\n",
    "    uniques = df.cwrb_reference_soil_group.unique()\n",
    "    for u in uniques:\n",
    "        cnt = df[df.cwrb_reference_soil_group == u].shape[0]\n",
    "        if cnt < min:\n",
    "            df = df[df.cwrb_reference_soil_group != u]\n",
    "            print('Deleting {} with {} occurrences'.format(u, cnt))\n",
    "    return df\n",
    "\n",
    "def to_binary(y, label):\n",
    "    final_y = np.zeros(y.shape)\n",
    "    for i, val in enumerate(y):\n",
    "        if val == label:\n",
    "            final_y[i] = 1\n",
    "    return final_y\n",
    "            "
   ]
  },
  {
   "cell_type": "markdown",
   "metadata": {},
   "source": [
    "# Test on a single class"
   ]
  },
  {
   "cell_type": "code",
   "execution_count": 3,
   "metadata": {},
   "outputs": [
    {
     "name": "stdout",
     "output_type": "stream",
     "text": [
      "Deleting Plinthosols with 6 occurrences\n",
      "Deleting Histosols with 10 occurrences\n"
     ]
    }
   ],
   "source": [
    "X, y = get_data()\n",
    "\n",
    "X_train, X_test, y_train, y_test = train_test_split(\n",
    "    X, y, test_size=0.2, stratify=y)\n",
    "\n",
    "y_train_binary = to_binary(y_train, 'Leptosols')\n",
    "y_test_binary = to_binary(y_test, 'Leptosols')\n"
   ]
  },
  {
   "cell_type": "code",
   "execution_count": 4,
   "metadata": {},
   "outputs": [
    {
     "name": "stdout",
     "output_type": "stream",
     "text": [
      "0.47539389814854205\n"
     ]
    }
   ],
   "source": [
    "# Original RF\n",
    "clf_RF = RandomForestClassifier(min_samples_split=6,\n",
    "                                n_estimators=1300, min_samples_leaf=2,\n",
    "                                oob_score=True, class_weight=\"balanced\", n_jobs=2)\n",
    "\n",
    "clf_RF.fit(X_train.drop('profile_id', axis=1), y_train)\n",
    "\n",
    "preds_RF_val = clf_RF.predict(X_test.drop('profile_id', axis=1))\n",
    "\n",
    "print(cohen_kappa_score(preds_RF_val, y_test))\n"
   ]
  },
  {
   "cell_type": "code",
   "execution_count": 26,
   "metadata": {},
   "outputs": [
    {
     "name": "stdout",
     "output_type": "stream",
     "text": [
      "0.7434351335206649\n"
     ]
    }
   ],
   "source": [
    "# One VS All RF\n",
    "clf_RF = RandomForestClassifier(min_samples_split=6,\n",
    "                                n_estimators=1300, min_samples_leaf=2,\n",
    "                                oob_score=True, class_weight=\"balanced\", n_jobs=2)\n",
    "\n",
    "clf_RF.fit(X_train.drop('profile_id', axis=1), y_train_binary)\n",
    "\n",
    "preds_RF_val = clf_RF.predict(X_test.drop('profile_id', axis=1))\n",
    "\n",
    "print(cohen_kappa_score(preds_RF_val, y_test_binary))\n"
   ]
  },
  {
   "cell_type": "markdown",
   "metadata": {},
   "source": [
    "# Create an Ensemble"
   ]
  },
  {
   "cell_type": "code",
   "execution_count": 5,
   "metadata": {},
   "outputs": [
    {
     "name": "stdout",
     "output_type": "stream",
     "text": [
      "Regosols: 0.4574669091516147\n",
      "Phaeozems: 0.15445755817830242\n",
      "Leptosols: 0.7544537448886723\n",
      "Vertisols: 0.5862256093244933\n",
      "Luvisols: 0.35526525410227816\n",
      "Calcisols: 0.424404739228161\n",
      "Cambisols: -0.0029054117566633675\n",
      "Umbrisols: 0.5892233717858837\n",
      "Solonchaks: 0.7681245225362873\n",
      "Kastanozems: 0.05798211429729916\n",
      "Chernozems: 0.05371891476025614\n",
      "Fluvisols: 0.06772633033863174\n",
      "Gleysols: 0.2094720579617494\n",
      "Arenosols: 0.4311750374812594\n",
      "Acrisols: 0.24988516306844277\n",
      "Andosols: 0.39373814041745736\n",
      "Planosols: 0.1873781935438149\n",
      "Solonetz: 0.13110043105583913\n",
      "Durisols: 0.3615712257453857\n",
      "Gypsisols: 0.3615712257453857\n",
      "Nitisols: -0.0011874721686209178\n",
      "Lixisols: 0.0\n"
     ]
    }
   ],
   "source": [
    "ensemble = {}\n",
    "for label in list(list(y.value_counts().keys())):\n",
    "    y_train_binary = to_binary(y_train, label)\n",
    "    y_test_binary = to_binary(y_test, label)\n",
    "    \n",
    "    clf_RF = RandomForestClassifier(min_samples_split=6,\n",
    "                                n_estimators=1300, min_samples_leaf=2,\n",
    "                                oob_score=True, class_weight=\"balanced\", n_jobs=-1)\n",
    "    clf_RF.fit(X_train.drop('profile_id', axis=1), y_train_binary)\n",
    "    \n",
    "    ensemble[label] = {'y_train': y_train_binary, 'y_test': y_test_binary, 'classifier': clf_RF}\n",
    "    \n",
    "    preds_RF_val = clf_RF.predict(X_test.drop('profile_id', axis=1))\n",
    "    print(f'{label}: {cohen_kappa_score(preds_RF_val, y_test_binary)}')\n",
    "\n",
    "    \n",
    "    "
   ]
  },
  {
   "cell_type": "code",
   "execution_count": 6,
   "metadata": {},
   "outputs": [],
   "source": [
    "def get_prediction(ensemble, X):\n",
    "    preds = np.zeros(shape=(len(X), len(ensemble.keys())))\n",
    "    for i, label in enumerate(list(ensemble.keys())):\n",
    "        # Select only the probability of being this class\n",
    "        preds_true = ensemble[label]['classifier'].predict_proba(X)[:,1]\n",
    "\n",
    "        # Transform to [profile, [pred_label_1, ..., pred_label_n]]\n",
    "        for j, p in enumerate(preds_true):\n",
    "            preds[j][i] = p\n",
    "\n",
    "    final_labels = []\n",
    "    for p in preds:\n",
    "        final_labels.append(list(ensemble.keys())[np.argmax(p)])\n",
    "    \n",
    "    return final_labels\n"
   ]
  },
  {
   "cell_type": "code",
   "execution_count": 7,
   "metadata": {},
   "outputs": [
    {
     "name": "stdout",
     "output_type": "stream",
     "text": [
      "0.46815470086778177\n"
     ]
    }
   ],
   "source": [
    "preds = get_prediction(ensemble, X_test.drop('profile_id', axis=1))\n",
    "print(cohen_kappa_score(preds, y_test))\n"
   ]
  },
  {
   "cell_type": "code",
   "execution_count": 61,
   "metadata": {},
   "outputs": [
    {
     "data": {
      "text/plain": [
       "array([-0.93456948, -0.85811313, -0.47500972, -0.3608269 ,  0.02318173,\n",
       "        0.82786882, -1.71417383,  0.14283889,  0.28680917, -0.27422442,\n",
       "       -0.38584765, -0.1509784 , -0.22807206, -0.41336883, -0.47500972,\n",
       "       -0.01979091,  0.02318173, -0.09190198, -1.4714568 , -0.14551303,\n",
       "        0.28680917, -0.66300472,  0.28574424,  0.11476502, -0.47500972,\n",
       "        0.43492374,  0.02318173, -0.42039155, -1.39055125, -0.72221688,\n",
       "        0.62658086, -0.40699156,  0.28574424,  0.11476502, -0.47500972,\n",
       "        0.43492374,  0.02318173, -0.42039155, -1.39055125, -0.72221688,\n",
       "        0.62658086, -0.40699156,  0.28574424,  0.11476502, -0.47500972,\n",
       "        0.43492374,  0.02318173, -0.42039155, -1.39055125, -0.72221688,\n",
       "        0.62658086, -0.40699156,  3.        ])"
      ]
     },
     "execution_count": 61,
     "metadata": {},
     "output_type": "execute_result"
    }
   ],
   "source": [
    "X_train.drop('profile_id', axis=1).values[0][0]"
   ]
  },
  {
   "cell_type": "code",
   "execution_count": null,
   "metadata": {},
   "outputs": [],
   "source": []
  }
 ],
 "metadata": {
  "kernelspec": {
   "display_name": "Python 3",
   "language": "python",
   "name": "python3"
  },
  "language_info": {
   "codemirror_mode": {
    "name": "ipython",
    "version": 3
   },
   "file_extension": ".py",
   "mimetype": "text/x-python",
   "name": "python",
   "nbconvert_exporter": "python",
   "pygments_lexer": "ipython3",
   "version": "3.7.4"
  }
 },
 "nbformat": 4,
 "nbformat_minor": 2
}
