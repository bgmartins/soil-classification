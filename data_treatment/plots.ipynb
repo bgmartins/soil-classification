{
 "cells": [
  {
   "cell_type": "code",
   "execution_count": 3,
   "metadata": {},
   "outputs": [
    {
     "name": "stdout",
     "output_type": "stream",
     "text": [
      "Merging and cleaning data.\n",
      "Cleaned data has 19440 rows and 14 columns, filtered by MX\n"
     ]
    }
   ],
   "source": [
    "import sys\n",
    "import getopt\n",
    "import pandas as pd\n",
    "import numpy as np\n",
    "from fancyimpute import KNN\n",
    "from multiprocessing import Pool\n",
    "from sklearn.preprocessing import scale\n",
    "import matplotlib.pyplot as plt\n",
    "\n",
    "# Set variables and defaults\n",
    "input_profiles = '../data/profiles.csv'\n",
    "input_layers = '../data/layers.csv'\n",
    "input_file = ''\n",
    "outputfile = '../data/classified_data.csv'\n",
    "threshold = 0.01\n",
    "#country_filter = ''\n",
    "country_filter = 'MX'\n",
    "knn = 0\n",
    "\n",
    "profiles = pd.read_csv(input_profiles)\n",
    "layers = pd.read_csv(input_layers)\n",
    "\n",
    "print('Merging and cleaning data.')\n",
    "\n",
    "# Selecting only those classified using WRB\n",
    "classified_profiles = profiles[~profiles['cwrb_reference_soil_group'].isnull(\n",
    ")]\n",
    "\n",
    "# Merging of the files\n",
    "classified_data = layers.merge(classified_profiles, how=\"inner\", left_on=[\n",
    "    'profile_id'], right_on=['profile_id'])\n",
    "\n",
    "# Filter by country\n",
    "if country_filter != '':\n",
    "    classified_data = classified_data.loc[classified_data['country_id']\n",
    "                                          == country_filter]\n",
    "\n",
    "# Replace Albeluvisols with Retisols as was made in the latest version of WRB\n",
    "classified_data.loc[classified_data['cwrb_reference_soil_group']\n",
    "                    == 'Albeluvisols', 'cwrb_reference_soil_group'] = 'Retisols'\n",
    "\n",
    "# Drop columns that are not numeric / not necessary (licenses)\n",
    "classified_data = classified_data.drop(columns=['dataset_id', 'country_id', 'cfao_version', 'cfao_major_group',\n",
    "                                                'cwrb_version', 'cwrb_reference_soil_group', 'cstx_version',\n",
    "                                                'cstx_order_name', 'translated', 'profile_layer_id'])\n",
    "classified_data = classified_data.drop(columns=list(\n",
    "    classified_data.loc[:, classified_data.columns.str.contains('license')]))\n",
    "\n",
    "# Remove the columns that have only missing values\n",
    "classified_data = classified_data.dropna(axis=1, how='all')\n",
    "\n",
    "# Remove all columns with more null values than allowed by the threshold\n",
    "c = classified_data.count().apply(lambda x: x/classified_data.shape[0])\n",
    "classified_data = classified_data.drop(\n",
    "    columns=c[c < threshold].index.tolist())\n",
    "\n",
    "# Remove rows where lower depth is clearly outlier\n",
    "classified_data = classified_data[classified_data.lower_depth < 999]\n",
    "\n",
    "# Add Thickness\n",
    "classified_data['thickness'] = classified_data.apply(\n",
    "    lambda row: row['lower_depth'] - row['upper_depth'], axis=1)\n",
    "\n",
    "print('Cleaned data has {} rows and {} columns'.format(\n",
    "    classified_data.shape[0], classified_data.shape[1]) + (', filtered by {}'.format(country_filter) if country_filter != '' else ''))\n",
    "\n"
   ]
  },
  {
   "cell_type": "code",
   "execution_count": 15,
   "metadata": {},
   "outputs": [],
   "source": [
    "classified_data.columns = ['Profile Id', 'Upper Depth [cm]', 'Lower Depth [cm]', 'Calcium Carbonate Equivalent Total [g/kg]',\n",
    "       'Average Clay [g/100g]', 'Electrical conductivity - saturated paste [dS/m]', 'Average Organic Carbon [g/kg]',\n",
    "       'Average pH measured in H2O', 'Average Sand [g/100g]', 'Average Silt [g/100]', 'Latitude',\n",
    "       'Longitude', 'Layer Thickness [cm]']"
   ]
  },
  {
   "cell_type": "code",
   "execution_count": 16,
   "metadata": {},
   "outputs": [],
   "source": [
    "classified_data[\"Number of Layers\"] = 0"
   ]
  },
  {
   "cell_type": "code",
   "execution_count": 5,
   "metadata": {},
   "outputs": [
    {
     "data": {
      "image/png": "[encoded data removed]",
      "text/plain": [
       "<Figure size 576x288 with 1 Axes>"
      ]
     },
     "metadata": {
      "needs_background": "light"
     },
     "output_type": "display_data"
    }
   ],
   "source": [
    "\n",
    "plt.figure(figsize=(8,4))\n",
    "classified_data.isna().sum().divide(classified_data.shape[0]).multiply(100).sort_values(ascending=True).plot(kind='barh', color=\"darkblue\")\n",
    "plt.xlabel(\"Percentage of Missing Values\")\n",
    "plt.tight_layout()\n",
    "plt.savefig(\"count_nulls.pdf\")\n",
    "plt.show()"
   ]
  },
  {
   "cell_type": "code",
   "execution_count": 28,
   "metadata": {},
   "outputs": [
    {
     "data": {
      "text/plain": [
       "Vertisols      1678\n",
       "Regosols       1614\n",
       "Phaeozems      1435\n",
       "Calcisols      1294\n",
       "Luvisols       1090\n",
       "Cambisols       891\n",
       "Solonchaks      644\n",
       "Leptosols       479\n",
       "Kastanozems     391\n",
       "Chernozems      340\n",
       "Gleysols        329\n",
       "Fluvisols       314\n",
       "Arenosols       301\n",
       "Umbrisols       291\n",
       "Solonetz        237\n",
       "Acrisols        226\n",
       "Planosols       183\n",
       "Andosols        164\n",
       "Gypsisols        80\n",
       "Nitisols         64\n",
       "Durisols         46\n",
       "Lixisols         26\n",
       "Histosols        12\n",
       "Name: cwrb_reference_soil_group, dtype: int64"
      ]
     },
     "execution_count": 28,
     "metadata": {},
     "output_type": "execute_result"
    }
   ],
   "source": [
    "df = classified_data\n",
    "df[df['tceq_value_avg'].isnull()]['cwrb_reference_soil_group'].value_counts()"
   ]
  },
  {
   "cell_type": "code",
   "execution_count": 16,
   "metadata": {},
   "outputs": [
    {
     "data": {
      "text/plain": [
       "profile_id                     205798\n",
       "upper_depth                        70\n",
       "lower_depth                       115\n",
       "tceq_value_avg                    NaN\n",
       "clay_value_avg                      2\n",
       "elcosp_value_avg                    1\n",
       "orgc_value_avg                    NaN\n",
       "phaq_value_avg                    7.5\n",
       "sand_value_avg                     92\n",
       "silt_value_avg                      6\n",
       "latitude                      16.0087\n",
       "longitude                    -97.4131\n",
       "cwrb_reference_soil_group    Regosols\n",
       "thickness                          45\n",
       "Name: 44409, dtype: object"
      ]
     },
     "execution_count": 16,
     "metadata": {},
     "output_type": "execute_result"
    }
   ],
   "source": [
    "\n",
    "classified_data[classified_data['profile_id'] == 205798].iloc[-1]\n"
   ]
  },
  {
   "cell_type": "raw",
   "metadata": {},
   "source": []
  },
  {
   "cell_type": "code",
   "execution_count": 34,
   "metadata": {
    "scrolled": true
   },
   "outputs": [
    {
     "name": "stdout",
     "output_type": "stream",
     "text": [
      "0\n",
      "100\n",
      "200\n",
      "300\n",
      "400\n",
      "500\n",
      "600\n",
      "700\n",
      "800\n",
      "900\n",
      "1000\n",
      "1100\n",
      "1200\n",
      "1300\n",
      "1400\n",
      "1500\n",
      "1600\n",
      "1700\n",
      "1800\n",
      "1900\n",
      "2000\n",
      "2100\n",
      "2200\n",
      "2300\n",
      "2400\n",
      "2500\n",
      "2600\n",
      "2700\n",
      "2800\n",
      "2900\n",
      "3000\n",
      "3100\n",
      "3200\n",
      "3300\n",
      "3400\n",
      "3500\n",
      "3600\n",
      "3700\n",
      "3800\n",
      "3900\n",
      "4000\n",
      "4100\n",
      "4200\n",
      "4300\n",
      "4400\n",
      "4500\n",
      "4600\n",
      "4700\n",
      "4800\n",
      "4900\n",
      "5000\n",
      "5100\n",
      "5200\n",
      "5300\n",
      "5400\n",
      "5500\n",
      "5600\n",
      "5700\n",
      "5800\n",
      "5900\n",
      "6000\n",
      "6100\n",
      "6200\n",
      "6300\n",
      "6400\n",
      "6500\n",
      "6600\n",
      "6700\n"
     ]
    }
   ],
   "source": [
    "profile_ids = classified_data.profile_id.unique()\n",
    "\n",
    "profiles = []\n",
    "for i, id in enumerate(profile_ids):\n",
    "    if i%1000 ==0 :\n",
    "        print(i)\n",
    "    # Find the layers for this profile and sort them\n",
    "    layers = classified_data[classified_data['profile_id'] == id]\n",
    "    layer = layers.iloc[-1].copy()\n",
    "    layer['thickness'] = np.average(layers['thickness'])\n",
    "    layer['n_layers'] = len(layers)\n",
    "    #layers = layers.sort_values(by=['profile_id','lower_depth'])\n",
    "    profiles.append(layer)"
   ]
  },
  {
   "cell_type": "code",
   "execution_count": 35,
   "metadata": {},
   "outputs": [],
   "source": [
    "df = pd.DataFrame(profiles)\n",
    "df.to_csv('only_last_layer.csv')"
   ]
  },
  {
   "cell_type": "code",
   "execution_count": 36,
   "metadata": {},
   "outputs": [
    {
     "data": {
      "text/plain": [
       "44409    28.750000\n",
       "44933    26.250000\n",
       "45202    17.500000\n",
       "45614    25.000000\n",
       "45994    21.500000\n",
       "41257    28.750000\n",
       "41544    22.500000\n",
       "42137    23.666667\n",
       "42879    20.000000\n",
       "43199    17.400000\n",
       "43799    25.000000\n",
       "44226    17.500000\n",
       "44266    20.833333\n",
       "44271    19.000000\n",
       "44413    25.000000\n",
       "44446    14.000000\n",
       "44498    21.000000\n",
       "44499    27.000000\n",
       "44593    38.666667\n",
       "44596    15.500000\n",
       "44637    19.400000\n",
       "44638    30.000000\n",
       "44737    26.500000\n",
       "55341    28.666667\n",
       "55348    17.571429\n",
       "55350    12.500000\n",
       "43312    33.333333\n",
       "55351    18.000000\n",
       "55355    31.750000\n",
       "55357    15.000000\n",
       "           ...    \n",
       "52043    20.250000\n",
       "52047     8.000000\n",
       "52048    23.000000\n",
       "52049    14.333333\n",
       "52054    18.500000\n",
       "52057    18.000000\n",
       "52062    12.666667\n",
       "52064    23.500000\n",
       "52065    11.500000\n",
       "52068    10.500000\n",
       "52071    25.000000\n",
       "52076    22.000000\n",
       "52078    20.833333\n",
       "16312     6.000000\n",
       "52086    11.500000\n",
       "16314    20.000000\n",
       "52087    12.000000\n",
       "52089    12.000000\n",
       "52094    20.833333\n",
       "52096     9.000000\n",
       "52099    17.857143\n",
       "52104    28.000000\n",
       "52106    15.625000\n",
       "52056     7.000000\n",
       "52118    20.833333\n",
       "52120    20.833333\n",
       "52132    15.625000\n",
       "52133     6.000000\n",
       "52135    31.250000\n",
       "52139    31.250000\n",
       "Name: thickness, Length: 6760, dtype: float64"
      ]
     },
     "execution_count": 36,
     "metadata": {},
     "output_type": "execute_result"
    }
   ],
   "source": [
    "df.thickness"
   ]
  },
  {
   "cell_type": "code",
   "execution_count": null,
   "metadata": {},
   "outputs": [],
   "source": []
  }
 ],
 "metadata": {
  "kernelspec": {
   "display_name": "Python 3",
   "language": "python",
   "name": "python3"
  },
  "language_info": {
   "codemirror_mode": {
    "name": "ipython",
    "version": 3
   },
   "file_extension": ".py",
   "mimetype": "text/x-python",
   "name": "python",
   "nbconvert_exporter": "python",
   "pygments_lexer": "ipython3",
   "version": "3.7.4"
  }
 },
 "nbformat": 4,
 "nbformat_minor": 2
}
