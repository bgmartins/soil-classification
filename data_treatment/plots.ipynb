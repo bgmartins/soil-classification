{
 "cells": [
  {
   "cell_type": "code",
   "execution_count": 9,
   "metadata": {},
   "outputs": [
    {
     "name": "stderr",
     "output_type": "stream",
     "text": [
      "/usr/local/Cellar/ipython/7.5.0/libexec/lib/python3.7/site-packages/IPython/core/interactiveshell.py:3049: DtypeWarning: Columns (53,54,55,56,57,58,61,62,63,64,65,67,68,69,70,71,72,74,76,77,78,79,80,81,82,83,84,85,86,87,88,89,90,91,92,93,94,95,96,97,98,99,100,101) have mixed types. Specify dtype option on import or set low_memory=False.\n",
      "  interactivity=interactivity, compiler=compiler, result=result)\n"
     ]
    },
    {
     "name": "stdout",
     "output_type": "stream",
     "text": [
      "Merging and cleaning data.\n",
      "Cleaned data has 19440 rows and 13 columns, filtered by MX\n"
     ]
    }
   ],
   "source": [
    "import sys\n",
    "import getopt\n",
    "import pandas as pd\n",
    "from fancyimpute import KNN\n",
    "from multiprocessing import Pool\n",
    "from sklearn.preprocessing import scale\n",
    "import matplotlib.pyplot as plt\n",
    "\n",
    "# Set variables and defaults\n",
    "input_profiles = '../data/profiles.csv'\n",
    "input_layers = '../data/layers.csv'\n",
    "input_file = ''\n",
    "outputfile = '../data/classified_data.csv'\n",
    "threshold = 0.01\n",
    "country_filter = 'MX'\n",
    "knn = 0\n",
    "\n",
    "profiles = pd.read_csv(input_profiles)\n",
    "layers = pd.read_csv(input_layers)\n",
    "\n",
    "print('Merging and cleaning data.')\n",
    "\n",
    "# Selecting only those classified using WRB\n",
    "classified_profiles = profiles[~profiles['cwrb_reference_soil_group'].isnull(\n",
    ")]\n",
    "\n",
    "# Merging of the files\n",
    "classified_data = layers.merge(classified_profiles, how=\"inner\", left_on=[\n",
    "    'profile_id'], right_on=['profile_id'])\n",
    "\n",
    "# Filter by country\n",
    "if country_filter != '':\n",
    "    classified_data = classified_data.loc[classified_data['country_id']\n",
    "                                          == country_filter]\n",
    "\n",
    "# Replace Albeluvisols with Retisols as was made in the latest version of WRB\n",
    "classified_data.loc[classified_data['cwrb_reference_soil_group']\n",
    "                    == 'Albeluvisols', 'cwrb_reference_soil_group'] = 'Retisols'\n",
    "\n",
    "# Drop columns that are not numeric / not necessary (licenses)\n",
    "classified_data = classified_data.drop(columns=['dataset_id', 'country_id', 'cfao_version', 'cfao_major_group',\n",
    "                                                'cwrb_version', 'cwrb_reference_soil_group', 'cstx_version',\n",
    "                                                'cstx_order_name', 'translated', 'profile_layer_id'])\n",
    "classified_data = classified_data.drop(columns=list(\n",
    "    classified_data.loc[:, classified_data.columns.str.contains('license')]))\n",
    "\n",
    "# Remove the columns that have only missing values\n",
    "classified_data = classified_data.dropna(axis=1, how='all')\n",
    "\n",
    "# Remove all columns with more null values than allowed by the threshold\n",
    "c = classified_data.count().apply(lambda x: x/classified_data.shape[0])\n",
    "classified_data = classified_data.drop(\n",
    "    columns=c[c < threshold].index.tolist())\n",
    "\n",
    "# Remove rows where lower depth is clearly outlier\n",
    "classified_data = classified_data[classified_data.lower_depth < 999]\n",
    "\n",
    "# Add Thickness\n",
    "classified_data['thickness'] = classified_data.apply(\n",
    "    lambda row: row['lower_depth'] - row['upper_depth'], axis=1)\n",
    "\n",
    "print('Cleaned data has {} rows and {} columns'.format(\n",
    "    classified_data.shape[0], classified_data.shape[1]) + (', filtered by {}'.format(country_filter) if country_filter != '' else ''))\n",
    "\n"
   ]
  },
  {
   "cell_type": "code",
   "execution_count": 30,
   "metadata": {},
   "outputs": [
    {
     "data": {
      "image/png": "[encoded data removed]",
      "text/plain": [
       "<Figure size 432x288 with 1 Axes>"
      ]
     },
     "metadata": {
      "needs_background": "light"
     },
     "output_type": "display_data"
    },
    {
     "data": {
      "image/png": "[encoded data removed]",
      "text/plain": [
       "<Figure size 576x288 with 1 Axes>"
      ]
     },
     "metadata": {
      "needs_background": "light"
     },
     "output_type": "display_data"
    }
   ],
   "source": [
    "plt.xlabel(\"Percentage of Missing Values\")\n",
    "plt.ylabel(\"Variable\")\n",
    "plt.figure(figsize=(8,4))\n",
    "df.isna().sum().divide(df.shape[0]).multiply(100).sort_values(ascending=True).plot(kind='barh', color=\"blue\")\n",
    "plt.tight_layout()\n",
    "plt.savefig(\"count_nulls.pdf\")"
   ]
  },
  {
   "cell_type": "code",
   "execution_count": 12,
   "metadata": {},
   "outputs": [],
   "source": [
    "plt.show()"
   ]
  },
  {
   "cell_type": "code",
   "execution_count": null,
   "metadata": {},
   "outputs": [],
   "source": []
  }
 ],
 "metadata": {
  "kernelspec": {
   "display_name": "Python 3",
   "language": "python",
   "name": "python3"
  },
  "language_info": {
   "codemirror_mode": {
    "name": "ipython",
    "version": 3
   },
   "file_extension": ".py",
   "mimetype": "text/x-python",
   "name": "python",
   "nbconvert_exporter": "python",
   "pygments_lexer": "ipython3",
   "version": "3.7.4"
  }
 },
 "nbformat": 4,
 "nbformat_minor": 2
}
